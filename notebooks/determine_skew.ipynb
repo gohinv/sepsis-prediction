{
 "cells": [
  {
   "cell_type": "code",
   "execution_count": 229,
   "id": "1d2cd7f9-7b51-4dea-bbb2-c7880f97d78b",
   "metadata": {
    "tags": []
   },
   "outputs": [],
   "source": [
    "import numpy as np\n",
    "import pandas as pd\n",
    "import os"
   ]
  },
  {
   "cell_type": "code",
   "execution_count": 230,
   "id": "fff96cdd-3396-42ea-b42d-4c11f30aec27",
   "metadata": {
    "tags": []
   },
   "outputs": [],
   "source": [
    "from sklearn.model_selection import train_test_split"
   ]
  },
  {
   "cell_type": "code",
   "execution_count": 231,
   "id": "7b35d0bd-f706-423c-a355-9ab36ef9003c",
   "metadata": {
    "tags": []
   },
   "outputs": [],
   "source": [
    "pathA = '/Users/gohitha/Desktop/CPSIL/sepsis-prediction/physionet.org/files/challenge-2019/1.0.0/training/training_setA'\n",
    "pathB = '/Users/gohitha/Desktop/CPSIL/sepsis-prediction/physionet.org/files/challenge-2019/1.0.0/training/training_setB'"
   ]
  },
  {
   "cell_type": "code",
   "execution_count": 232,
   "id": "2f1f5cba-13ee-4ddd-87ce-9d989767ce9d",
   "metadata": {
    "tags": []
   },
   "outputs": [],
   "source": [
    "pos = []\n",
    "neg = []\n",
    "for psv in os.listdir(pathA):\n",
    "    if psv.endswith('.psv'):\n",
    "        filename = os.path.join(pathA, psv)\n",
    "        ex = pd.read_csv(filename, sep='|')\n",
    "        # print(ex.columns)\n",
    "        if 1 in np.array(ex['SepsisLabel']):\n",
    "            pos.append(filename)\n",
    "        else:\n",
    "            neg.append(filename)\n",
    "            \n",
    "for psv in os.listdir(pathB):\n",
    "    if psv.endswith('.psv'):\n",
    "        filename = os.path.join(pathB, psv)\n",
    "        ex = pd.read_csv(filename, sep='|')\n",
    "        # print(ex.columns)\n",
    "        if 1 in np.array(ex['SepsisLabel']):\n",
    "            pos.append(filename)\n",
    "        else:\n",
    "            neg.append(filename)"
   ]
  },
  {
   "cell_type": "code",
   "execution_count": 233,
   "id": "e79b0289-a305-4bfa-865a-06f46d65e218",
   "metadata": {
    "tags": []
   },
   "outputs": [
    {
     "data": {
      "text/plain": [
       "2932"
      ]
     },
     "execution_count": 233,
     "metadata": {},
     "output_type": "execute_result"
    }
   ],
   "source": [
    "len(pos)"
   ]
  },
  {
   "cell_type": "code",
   "execution_count": 234,
   "id": "0e18ed2e-bd0c-425a-91ae-4e7f928c4d9c",
   "metadata": {
    "tags": []
   },
   "outputs": [
    {
     "data": {
      "text/plain": [
       "37404"
      ]
     },
     "execution_count": 234,
     "metadata": {},
     "output_type": "execute_result"
    }
   ],
   "source": [
    "len(neg)"
   ]
  },
  {
   "cell_type": "code",
   "execution_count": 235,
   "id": "4e6a8277-a2fb-461a-984e-4c80ece936ee",
   "metadata": {
    "tags": []
   },
   "outputs": [],
   "source": [
    "import random"
   ]
  },
  {
   "cell_type": "code",
   "execution_count": 236,
   "id": "4b64c528-0a6b-4c99-93a5-ad161d4a409d",
   "metadata": {
    "tags": []
   },
   "outputs": [],
   "source": [
    "random.shuffle(neg)\n",
    "negs = neg[:10000]"
   ]
  },
  {
   "cell_type": "code",
   "execution_count": 237,
   "id": "9d125203-ceeb-4630-8314-3f2addc08198",
   "metadata": {
    "tags": []
   },
   "outputs": [
    {
     "data": {
      "text/plain": [
       "10000"
      ]
     },
     "execution_count": 237,
     "metadata": {},
     "output_type": "execute_result"
    }
   ],
   "source": [
    "len(negs)"
   ]
  },
  {
   "cell_type": "code",
   "execution_count": 238,
   "id": "43a0b781-8295-4322-8255-075d52c59cd7",
   "metadata": {
    "tags": []
   },
   "outputs": [
    {
     "data": {
      "text/plain": [
       "2932"
      ]
     },
     "execution_count": 238,
     "metadata": {},
     "output_type": "execute_result"
    }
   ],
   "source": [
    "len(pos)"
   ]
  },
  {
   "cell_type": "code",
   "execution_count": 239,
   "id": "89445f6b-986b-4a90-9632-a7735e46f9cc",
   "metadata": {
    "tags": []
   },
   "outputs": [],
   "source": [
    "data_files = negs + pos"
   ]
  },
  {
   "cell_type": "code",
   "execution_count": 240,
   "id": "b3858e6e-565e-44c0-a753-7f7e3fd2f317",
   "metadata": {
    "tags": []
   },
   "outputs": [
    {
     "data": {
      "text/plain": [
       "12932"
      ]
     },
     "execution_count": 240,
     "metadata": {},
     "output_type": "execute_result"
    }
   ],
   "source": [
    "len(data_files)"
   ]
  },
  {
   "cell_type": "code",
   "execution_count": 241,
   "id": "695a3ca5-e8e0-4902-ac9a-dcda22c2e260",
   "metadata": {
    "tags": []
   },
   "outputs": [],
   "source": [
    "random.shuffle(data_files)"
   ]
  },
  {
   "cell_type": "code",
   "execution_count": 242,
   "id": "9b9d3bc9-b05a-4695-9d50-7993f287d07f",
   "metadata": {
    "tags": []
   },
   "outputs": [],
   "source": [
    "data_dfs = [pd.read_csv(filename, sep='|') for filename in data_files]"
   ]
  },
  {
   "cell_type": "code",
   "execution_count": 243,
   "id": "3a053c32-0157-4267-bdd2-ee1644441995",
   "metadata": {
    "tags": []
   },
   "outputs": [],
   "source": [
    "data = pd.concat(data_dfs, ignore_index=True)"
   ]
  },
  {
   "cell_type": "code",
   "execution_count": 244,
   "id": "1191ba30-200e-4898-8fda-480a028416cf",
   "metadata": {
    "tags": []
   },
   "outputs": [],
   "source": [
    "from preprocessing import plot_dataset"
   ]
  },
  {
   "cell_type": "code",
   "execution_count": 245,
   "id": "466f2fc7-7a51-40a8-808d-bce08886fb99",
   "metadata": {},
   "outputs": [
    {
     "data": {
      "text/plain": [
       "[177574, 347577]"
      ]
     },
     "execution_count": 245,
     "metadata": {},
     "output_type": "execute_result"
    }
   ],
   "source": [
    "data.index[data['FiO2'] < 0].tolist()"
   ]
  },
  {
   "cell_type": "code",
   "execution_count": 246,
   "id": "b750960e-566f-440d-964c-3b916a54360a",
   "metadata": {
    "tags": []
   },
   "outputs": [],
   "source": [
    "negvals = data.index[data['FiO2'] < 0].tolist()"
   ]
  },
  {
   "cell_type": "code",
   "execution_count": 247,
   "id": "96510bac-eec9-46ba-970a-b9bc3500ca1a",
   "metadata": {
    "tags": []
   },
   "outputs": [],
   "source": [
    "for val in negvals:\n",
    "    data.at[val, 'FiO2'] = np.nan"
   ]
  },
  {
   "cell_type": "code",
   "execution_count": 248,
   "id": "b337f698-0681-48ed-bbea-90df673cc73c",
   "metadata": {
    "tags": []
   },
   "outputs": [],
   "source": [
    "data['HospAdmTime'] = data['HospAdmTime'] * -1"
   ]
  },
  {
   "cell_type": "code",
   "execution_count": 249,
   "id": "fe4c1a7c-04c1-400c-827e-da66f6829400",
   "metadata": {
    "tags": []
   },
   "outputs": [
    {
     "data": {
      "text/plain": [
       "count    56203.000000\n",
       "mean         0.524910\n",
       "std          0.195116\n",
       "min          0.000000\n",
       "25%          0.400000\n",
       "50%          0.500000\n",
       "75%          0.600000\n",
       "max         10.000000\n",
       "Name: FiO2, dtype: float64"
      ]
     },
     "execution_count": 249,
     "metadata": {},
     "output_type": "execute_result"
    }
   ],
   "source": [
    "data['FiO2'].describe()"
   ]
  },
  {
   "cell_type": "code",
   "execution_count": 250,
   "id": "e9221e09-8f91-457e-9cdf-33e3da6c5dd8",
   "metadata": {
    "tags": []
   },
   "outputs": [
    {
     "name": "stdout",
     "output_type": "stream",
     "text": [
      "[166193]\n"
     ]
    }
   ],
   "source": [
    "largevals = data.index[data['FiO2'] > 6].tolist()\n",
    "print(largevals)"
   ]
  },
  {
   "cell_type": "code",
   "execution_count": 251,
   "id": "ea1b727a-d0eb-4c1e-8c3c-f99a8d1da78c",
   "metadata": {
    "tags": []
   },
   "outputs": [],
   "source": [
    "for val in largevals:\n",
    "    data.at[val, 'FiO2'] = np.nan"
   ]
  },
  {
   "cell_type": "code",
   "execution_count": 252,
   "id": "7626de95-ba8c-49a5-857a-926e77b95cfd",
   "metadata": {
    "tags": []
   },
   "outputs": [],
   "source": [
    "data_skew = data.skew()\n",
    "skew_1 = list(data_skew[data_skew.abs() > 1.2].index)"
   ]
  },
  {
   "cell_type": "code",
   "execution_count": 253,
   "id": "c4ecc488-eafc-40a8-981d-a9245d25297b",
   "metadata": {
    "tags": []
   },
   "outputs": [],
   "source": [
    "skew_1.remove('SepsisLabel')"
   ]
  },
  {
   "cell_type": "code",
   "execution_count": 254,
   "id": "5b402800-1f72-441e-9c04-442f7221bffa",
   "metadata": {
    "tags": []
   },
   "outputs": [],
   "source": [
    "skew_1.remove('SaO2')    "
   ]
  },
  {
   "cell_type": "code",
   "execution_count": 255,
   "id": "cff0677e-f1e2-44f5-b965-d21d8db708a4",
   "metadata": {
    "tags": []
   },
   "outputs": [],
   "source": [
    "skew_1.remove('O2Sat')"
   ]
  },
  {
   "cell_type": "code",
   "execution_count": 256,
   "id": "43541332-8043-41da-8440-7a1d7bf89812",
   "metadata": {
    "tags": []
   },
   "outputs": [],
   "source": [
    "for col in skew_1:\n",
    "       data[col] = data[col].apply(lambda x: np.log(x+1) if pd.notnull(x) else x)"
   ]
  },
  {
   "cell_type": "code",
   "execution_count": null,
   "id": "fc040c01-74e6-4518-9026-196ac2ee2989",
   "metadata": {
    "scrolled": true,
    "tags": []
   },
   "outputs": [],
   "source": [
    "plot_dataset(data.columns, data, 6)"
   ]
  },
  {
   "cell_type": "code",
   "execution_count": null,
   "id": "b649c873-3d85-48d2-9345-f9c85dc08c9d",
   "metadata": {
    "tags": []
   },
   "outputs": [],
   "source": [
    "data_skew_2 = data.skew()\n",
    "skew_2 = list(data_skew_2[data_skew_2.abs() > 1.2].index)"
   ]
  },
  {
   "cell_type": "code",
   "execution_count": 17,
   "id": "ee025b5a-d9a7-436c-9074-1c0465742046",
   "metadata": {
    "tags": []
   },
   "outputs": [
    {
     "ename": "NameError",
     "evalue": "name 'skew_2' is not defined",
     "output_type": "error",
     "traceback": [
      "\u001b[0;31m---------------------------------------------------------------------------\u001b[0m",
      "\u001b[0;31mNameError\u001b[0m                                 Traceback (most recent call last)",
      "Cell \u001b[0;32mIn[17], line 1\u001b[0m\n\u001b[0;32m----> 1\u001b[0m skew_2\n",
      "\u001b[0;31mNameError\u001b[0m: name 'skew_2' is not defined"
     ]
    }
   ],
   "source": [
    "skew_2"
   ]
  },
  {
   "cell_type": "code",
   "execution_count": null,
   "id": "1e848ceb-6183-4a4d-8443-f3b105a86c2e",
   "metadata": {
    "tags": []
   },
   "outputs": [],
   "source": [
    "skew_2.remove('O2Sat')"
   ]
  },
  {
   "cell_type": "code",
   "execution_count": null,
   "id": "d79f5e32-699a-45d2-b63e-5bec29b706c4",
   "metadata": {
    "tags": []
   },
   "outputs": [],
   "source": [
    "skew_2.remove('SaO2')\n",
    "skew_2.remove('SepsisLabel')"
   ]
  },
  {
   "cell_type": "code",
   "execution_count": null,
   "id": "8a35ee97-45f9-4a0a-9da0-882394df2d97",
   "metadata": {
    "tags": []
   },
   "outputs": [],
   "source": [
    "skew_2"
   ]
  },
  {
   "cell_type": "code",
   "execution_count": null,
   "id": "159f7c7d-b0d6-4818-b991-0041d8187f04",
   "metadata": {
    "tags": []
   },
   "outputs": [],
   "source": [
    "plot_dataset(skew_2, data, 3)"
   ]
  },
  {
   "cell_type": "code",
   "execution_count": null,
   "id": "95c8f66e-d4e8-4c09-ba9d-eed5ea56a27a",
   "metadata": {
    "tags": []
   },
   "outputs": [],
   "source": [
    "for col in skew_2:\n",
    "    data[col] = data[col].apply(lambda x: np.log(x+1) if pd.notnull(x) else x)"
   ]
  },
  {
   "cell_type": "code",
   "execution_count": null,
   "id": "3a72ae91-c17c-46bb-819d-20788cedfea8",
   "metadata": {
    "tags": []
   },
   "outputs": [],
   "source": [
    "plot_dataset(data.columns, data, 6)"
   ]
  },
  {
   "cell_type": "code",
   "execution_count": null,
   "id": "58c705b0-9f19-40ab-b308-7a711c1746e7",
   "metadata": {
    "tags": []
   },
   "outputs": [],
   "source": [
    "skew_1"
   ]
  },
  {
   "cell_type": "code",
   "execution_count": null,
   "id": "578e337b-3817-490c-9096-905572843e3c",
   "metadata": {
    "tags": []
   },
   "outputs": [],
   "source": [
    "skew_2"
   ]
  },
  {
   "cell_type": "code",
   "execution_count": null,
   "id": "72ac4fb1-7d80-4835-95ef-51f6f518cd5f",
   "metadata": {
    "tags": []
   },
   "outputs": [],
   "source": [
    "train_neg, test_neg = train_test_split(negs, test_size=0.15, random_state=42)\n",
    "train_pos, test_pos = train_test_split(pos, test_size=0.15, random_state=42)"
   ]
  },
  {
   "cell_type": "code",
   "execution_count": null,
   "id": "a379fb30-ee16-48b5-bf31-60c77174e164",
   "metadata": {
    "tags": []
   },
   "outputs": [],
   "source": [
    "train_neg_dfs = [pd.read_csv(filename, sep='|') for filename in train_neg]\n",
    "train_pos_dfs = [pd.read_csv(filename, sep='|') for filename in train_pos]"
   ]
  },
  {
   "cell_type": "code",
   "execution_count": null,
   "id": "2142077d-0481-45f2-ad4f-54c7d016f341",
   "metadata": {
    "tags": []
   },
   "outputs": [],
   "source": [
    "trnneg = pd.concat(train_neg_dfs, ignore_index=True)\n",
    "trnpos = pd.concat(train_pos_dfs, ignore_index=True)"
   ]
  },
  {
   "cell_type": "code",
   "execution_count": null,
   "id": "87e1eaa6-d2aa-4e9a-86f8-2b81e217d8c5",
   "metadata": {
    "tags": []
   },
   "outputs": [],
   "source": [
    "vitals = ['HR', 'O2Sat', 'Temp', 'SBP', 'MAP', 'DBP', 'Resp', 'EtCO2']\n",
    "\n",
    "non_demo = [\n",
    "    'HR', 'O2Sat', 'Temp', 'SBP', 'MAP', 'DBP', 'Resp', 'EtCO2', \n",
    "    'BaseExcess', 'HCO3', 'FiO2', 'pH', 'PaCO2', 'SaO2', 'AST', 'BUN', \n",
    "    'Alkalinephos', 'Calcium', 'Chloride', 'Creatinine', 'Bilirubin_direct', \n",
    "    'Glucose', 'Lactate', 'Magnesium', 'Phosphate', 'Potassium', 'Bilirubin_total', \n",
    "    'TroponinI', 'Hct', 'Hgb', 'PTT', 'WBC', 'Fibrinogen', 'Platelets'\n",
    "]\n",
    "\n",
    "labvals = [\n",
    "    'BaseExcess', 'HCO3', 'FiO2', 'pH', 'PaCO2', 'SaO2', 'AST', 'BUN', \n",
    "    'Alkalinephos', 'Calcium', 'Chloride', 'Creatinine', 'Glucose', 'Lactate', \n",
    "    'Magnesium', 'Phosphate', 'Potassium', 'Bilirubin_total', 'Hct', \n",
    "    'Hgb', 'PTT', 'WBC', 'Platelets'\n",
    "]"
   ]
  },
  {
   "cell_type": "code",
   "execution_count": null,
   "id": "f3e828fe-5282-4238-9667-db6cc80d3086",
   "metadata": {
    "tags": []
   },
   "outputs": [],
   "source": [
    "trnpos['HospAdmTime'] = trnpos['HospAdmTime'] * -1\n",
    "trnneg['HospAdmTime'] = trnneg['HospAdmTime'] * -1"
   ]
  },
  {
   "cell_type": "code",
   "execution_count": null,
   "id": "be346061-8958-4ad3-83d5-76949d474e60",
   "metadata": {
    "tags": []
   },
   "outputs": [],
   "source": [
    "poslargevals = trnpos.index[trnpos['FiO2'] > 6].tolist()\n",
    "print(poslargevals)"
   ]
  },
  {
   "cell_type": "code",
   "execution_count": null,
   "id": "64790523-0332-4402-86dd-e0e8343db445",
   "metadata": {
    "tags": []
   },
   "outputs": [],
   "source": [
    "posnegvals = trnpos.index[trnpos['FiO2'] < 0].tolist()\n",
    "print(posnegvals)"
   ]
  },
  {
   "cell_type": "code",
   "execution_count": null,
   "id": "d8f60abf-c040-49ac-89fd-f12bf0d2767d",
   "metadata": {
    "tags": []
   },
   "outputs": [],
   "source": [
    "neglargevals = trnneg.index[trnneg['FiO2'] > 6].tolist()\n",
    "print(neglargevals)"
   ]
  },
  {
   "cell_type": "code",
   "execution_count": null,
   "id": "e0c887da-79c0-4aef-b75d-d618b7c21533",
   "metadata": {
    "tags": []
   },
   "outputs": [],
   "source": [
    "negnegvals = trnneg.index[trnneg['FiO2'] < 0].tolist()\n",
    "print(negnegvals)"
   ]
  },
  {
   "cell_type": "code",
   "execution_count": null,
   "id": "d5f27ad3-872b-492b-b9b8-1bca31e88b2d",
   "metadata": {
    "tags": []
   },
   "outputs": [],
   "source": [
    "for val in neglargevals:\n",
    "    print(trnneg.at[val, 'FiO2'])\n",
    "    trnneg.at[val, 'FiO2'] = np.nan"
   ]
  },
  {
   "cell_type": "code",
   "execution_count": null,
   "id": "12bcc8b3-cf93-4bb4-a9a9-cccdf64ae671",
   "metadata": {
    "tags": []
   },
   "outputs": [],
   "source": [
    "for val in negnegvals:\n",
    "    print(trnneg.at[val, 'FiO2'])\n",
    "    trnneg.at[val, 'FiO2'] = np.nan"
   ]
  },
  {
   "cell_type": "code",
   "execution_count": null,
   "id": "cc92061e-964a-4d79-bded-4d1ea8258b58",
   "metadata": {
    "tags": []
   },
   "outputs": [],
   "source": [
    "for val in posnegvals:\n",
    "    print(trnpos.at[val, 'FiO2'])\n",
    "    trnpos.at[val, 'FiO2'] = np.nan"
   ]
  },
  {
   "cell_type": "code",
   "execution_count": null,
   "id": "65acda49-69bb-4ed7-9bb3-d70b90c1e4db",
   "metadata": {
    "tags": []
   },
   "outputs": [],
   "source": [
    "for col in skew_1:\n",
    "    trnpos[col] = trnpos[col].apply(lambda x: np.log(x+1) if pd.notnull(x) else x)\n",
    "    trnneg[col] = trnneg[col].apply(lambda x: np.log(x+1) if pd.notnull(x) else x)\n",
    "    if col in skew_2:\n",
    "        trnpos[col] = trnpos[col].apply(lambda x: np.log(x+1) if pd.notnull(x) else x)\n",
    "        trnneg[col] = trnneg[col].apply(lambda x: np.log(x+1) if pd.notnull(x) else x)"
   ]
  },
  {
   "cell_type": "code",
   "execution_count": null,
   "id": "29475c2f-3651-48b7-8f7c-6e3939b8e984",
   "metadata": {
    "tags": []
   },
   "outputs": [],
   "source": [
    "import preprocessing as pre"
   ]
  },
  {
   "cell_type": "code",
   "execution_count": null,
   "id": "b563bebf-5b44-4cb4-b7cc-9ca57d2890ba",
   "metadata": {
    "tags": []
   },
   "outputs": [],
   "source": [
    "for column in non_demo:\n",
    "    trnpos[column] = pre.custom_impute(trnpos[column])\n",
    "    trnneg[column] = pre.custom_impute(trnneg[column])"
   ]
  },
  {
   "cell_type": "code",
   "execution_count": null,
   "id": "555fe477-b46a-469f-91b8-32d820c132ad",
   "metadata": {
    "tags": []
   },
   "outputs": [],
   "source": [
    "import numpy as np\n",
    "import pandas as pd\n",
    "import os\n",
    "from sklearn.preprocessing import StandardScaler\n",
    "import matplotlib.pyplot as plt\n",
    "\n",
    "def plot_dataset(columns, data, n_cols):  \n",
    "    # Define the size of the grid\n",
    "    n_rows = (len(columns) + n_cols - 1) // n_cols  # Calculate the required number of rows\n",
    "\n",
    "    # Create a figure and a grid of subplots\n",
    "    fig, axes = plt.subplots(nrows=n_rows, ncols=n_cols, figsize=(n_cols * 4, n_rows * 3))  # Adjust the size as needed\n",
    "\n",
    "    # Flatten the axes array for easier iteration\n",
    "    axes = axes.flatten()\n",
    "\n",
    "    # Plot a histogram on each subplot\n",
    "    for ax, column in zip(axes, columns):\n",
    "        ax.hist(data[column].dropna(), bins=30, alpha=0.7, color='blue')  # Drop NA for clean histogram plotting\n",
    "        ax.set_title(column)\n",
    "        ax.set_xlabel('Value')\n",
    "        ax.set_ylabel('Frequency')\n",
    "\n",
    "    # Hide any unused subplots if you have an uneven number of columns\n",
    "    for ax in axes[len(columns):]:\n",
    "        ax.axis('off')\n",
    "\n",
    "    # Adjust layout to prevent overlap\n",
    "    fig.tight_layout()\n",
    "\n",
    "    # Display the plot\n",
    "    plt.show()\n",
    "\n",
    "def custom_impute(column):\n",
    "    # Convert the series to a numpy array for easier manipulation\n",
    "    values = column.values\n",
    "    mean_value = np.nanmean(values)  # Compute mean ignoring NaN\n",
    "    \n",
    "    # Identify the index of the first non-NaN value\n",
    "    first_valid_index = column.first_valid_index()\n",
    "    \n",
    "    # If the first entry itself is NaN, we need to handle initial NaN values\n",
    "    if first_valid_index is not None:\n",
    "        # Fill NaN values up to the first valid index with the mean\n",
    "        values[:first_valid_index] = np.where(np.isnan(values[:first_valid_index]), mean_value, values[:first_valid_index])\n",
    "        \n",
    "    # Create a Series from the values to utilize pandas' fillna method for forward filling\n",
    "    return pd.Series(values, index=column.index).fillna(method='ffill')\n",
    "\n",
    "def differential_features(dataset, columns):\n",
    "    temp_data = np.array(dataset)\n",
    "    for column in columns:\n",
    "        data = np.array(dataset[column])\n",
    "        nanpos = np.where(~np.isnan(data))[0]\n",
    "        diff = data.copy().astype(float)\n",
    "        if len(nanpos) <= 1:\n",
    "            diff[:] = np.nan\n",
    "            temp_data = np.column_stack((temp_data, diff))\n",
    "        else:\n",
    "            diff[:nanpos[1]] = np.nan\n",
    "            for p in range (1, len(nanpos)-1):\n",
    "                diff[nanpos[p] : nanpos[p+1]] = data[nanpos[p]] - data[nanpos[p-1]]\n",
    "            diff[nanpos[-1]:] = data[nanpos[-1]] - data[nanpos[-2]]\n",
    "            temp_data = np.column_stack((temp_data, diff))\n",
    "    return temp_data\n",
    "\n",
    "def slide_window(data_arr, col_idx):\n",
    "    \"\"\"\n",
    "    Calculate dynamic statistics in a six-hour sliding window\n",
    "    :param data_arr: data after using a forward-filling strategy\n",
    "    :param col_idx: selected features\n",
    "    :return: time-series features\n",
    "    \"\"\"\n",
    "    data = data_arr[:, col_idx]\n",
    "    max_values = [[0 for col in range(len(data))]\n",
    "                  for row in range(len(col_idx))]\n",
    "    min_values = [[0 for col in range(len(data))]\n",
    "                  for row in range(len(col_idx))]\n",
    "    mean_values = [[0 for col in range(len(data))]\n",
    "                   for row in range(len(col_idx))]\n",
    "    median_values = [[0 for col in range(len(data))]\n",
    "                   for row in range(len(col_idx))]\n",
    "    std_values = [[0 for col in range(len(data))]\n",
    "                   for row in range(len(col_idx))]\n",
    "    diff_std_values = [[0 for col in range(len(data))]\n",
    "                   for row in range(len(col_idx))]\n",
    "\n",
    "    for i in range(len(data)):\n",
    "        if i < 6:\n",
    "            win_data = data[0:i + 1]\n",
    "            for ii in range(6 - i):\n",
    "                win_data = np.row_stack((win_data, data[i]))\n",
    "        else:\n",
    "            win_data = data[i - 6: i + 1]\n",
    "\n",
    "        for j in range(len(col_idx)):\n",
    "            dat = win_data[:, j]\n",
    "            if len(np.where(~np.isnan(dat))[0]) == 0:\n",
    "                max_values[j][i] = np.nan\n",
    "                min_values[j][i] = np.nan\n",
    "                mean_values[j][i] = np.nan\n",
    "                median_values[j][i] = np.nan\n",
    "                std_values[j][i] = np.nan\n",
    "                diff_std_values[j][i] = np.nan\n",
    "            else:\n",
    "                max_values[j][i] = np.nanmax(dat)\n",
    "                min_values[j][i] = np.nanmin(dat)\n",
    "                mean_values[j][i] = np.nanmean(dat)\n",
    "                median_values[j][i] = np.nanmedian(dat)\n",
    "                std_values[j][i] = np.nanstd(dat)\n",
    "                diff_std_values[j][i] = np.std(np.diff(dat))\n",
    "\n",
    "    win_features = list(chain(max_values, min_values, mean_values,\n",
    "                              median_values, std_values, diff_std_values))\n",
    "    win_features = (np.array(win_features)).T\n",
    "\n",
    "    return win_features\n",
    "\n",
    "def feature_extract(dataset):\n",
    "    labels = np.array(dataset['SepsisLabel'])\n",
    "    data_prime = dataset.drop(columns=['Bilirubin_direct', 'TroponinI', 'Fibrinogen', 'SepsisLabel'])\n",
    "    # obtain np array of dataset stacked with differential features\n",
    "    data_with_diff = differential_features(data_prime, vitals + labvals)\n",
    "    # 6 hour sliding window for ['HR', 'O2Sat', 'SBP', 'MAP', 'Resp'] = [0, 1, 3, 4, 6] in vitals\n",
    "    print(data_with_diff.shape)\n",
    "    # data_slide_win = slide_window(data_with_diff, [0, 1, 3, 4, 6])\n",
    "    # features = np.column_stack((data_with_diff, data_slide_win))\n",
    "    features = data_with_diff\n",
    "    return features, labels\n",
    "\n",
    "def process_data(dataset):\n",
    "    features, labels = feature_extract(dataset)\n",
    "    index = [i for i in range(len(labels))]\n",
    "    np.random.shuffle(index)\n",
    "    features = features[index]\n",
    "    labels = labels[index]\n",
    "    return features, labels"
   ]
  },
  {
   "cell_type": "code",
   "execution_count": null,
   "id": "944be8d7-8610-42eb-9165-2f564db16379",
   "metadata": {
    "tags": []
   },
   "outputs": [],
   "source": [
    "from sklearn.model_selection import KFold\n",
    "from sklearn.metrics import roc_auc_score, accuracy_score\n",
    "import xgboost as xgb\n",
    "from hyperopt import STATUS_OK, hp, fmin, tpe\n",
    "import pandas as pd\n",
    "import numpy as np\n",
    "\n",
    "def downsample(dataset):\n",
    "    x, y = process_data(dataset)\n",
    "    index_0 = np.where(y == 0)[0]\n",
    "    index_1 = np.where(y == 1)[0]\n",
    "    \n",
    "    index = index_0[len(index_1): -1]\n",
    "    x_del = np.delete(x, index, 0)\n",
    "    y_del = np.delete(y, index, 0)\n",
    "    index = [i for i in range(len(y_del))]\n",
    "    np.random.shuffle(index)\n",
    "    x_del = x_del[index]\n",
    "    y_del = y_del[index]\n",
    "    \n",
    "    return x_del, y_del\n",
    "\n",
    "def hp_opt(x_train, y_train, x_val, y_val):\n",
    "    train = xgb.DMatrix(x_train, label=y_train)\n",
    "    val = xgb.DMatrix(x_val, label=y_val)\n",
    "    x_val_D = xgb.DMatrix(x_val)\n",
    "        \n",
    "    def objective(params):\n",
    "        xgb_model = xgb.train(params, dtrain=train, num_boost_round=1000, evals=[(val, 'eval')],\n",
    "                              verbose_eval=False, early_stopping_rounds=80)\n",
    "        y_vd_pred = xgb_model.predict(x_val_D, iteration_range=(0, xgb_model.best_iteration+1))\n",
    "        y_val_class = [0 if i <= 0.5 else 1 for i in y_vd_pred]\n",
    "\n",
    "        acc = accuracy_score(y_val, y_val_class)\n",
    "        loss = 1 - acc\n",
    "        return {'loss' : loss, 'params' : params, 'status' : STATUS_OK}\n",
    "\n",
    "    max_depths = [3, 4]\n",
    "    learning_rates = [0.01, 0.02, 0.04, 0.06, 0.08, 0.1, 0.15, 0.2]\n",
    "    subsamples = [0.5, 0.6, 0.7, 0.8, 0.9]\n",
    "    colsample_bytrees = [0.5, 0.6, 0.7, 0.8, 0.9]\n",
    "    reg_alphas = [0.0, 0.005, 0.01, 0.05, 0.1]\n",
    "    reg_lambdas = [0.8, 1, 1.5, 2, 4]\n",
    "\n",
    "    space = {\n",
    "        'max_depth': hp.choice('max_depth', max_depths),\n",
    "        'learning_rate': hp.choice('learning_rate', learning_rates),\n",
    "        'subsample': hp.choice('subsample', subsamples),\n",
    "        'colsample_bytree': hp.choice('colsample_bytree', colsample_bytrees),\n",
    "        'reg_alpha': hp.choice('reg_alpha', reg_alphas),\n",
    "        'reg_lambda': hp.choice('reg_lambda', reg_lambdas),\n",
    "    }\n",
    "\n",
    "    best = fmin(fn=objective, space=space, algo=tpe.suggest, max_evals=20)\n",
    "\n",
    "    best_param = {'max_depth': max_depths[(best['max_depth'])],\n",
    "                  'learning_rate': learning_rates[(best['learning_rate'])],\n",
    "                  'subsample': subsamples[(best['subsample'])],\n",
    "                  'colsample_bytree': colsample_bytrees[(best['colsample_bytree'])],\n",
    "                  'reg_alpha': reg_alphas[(best['reg_alpha'])],\n",
    "                  'reg_lambda': reg_lambdas[(best['reg_lambda'])]\n",
    "                  }\n",
    "\n",
    "    return best_param\n",
    "\n",
    "def train_model(k, x_train, y_train, x_val, y_val, save_dir):\n",
    "    print('*************************************************************')\n",
    "    print('{}th training ..............'.format(k + 1))\n",
    "    print('Hyperparameters optimization')\n",
    "    best_param = hp_opt(x_train, y_train, x_val, y_val)\n",
    "    xgb_model = xgb.XGBClassifier(max_depth = best_param['max_depth'],\n",
    "                                  eta = best_param['learning_rate'],\n",
    "                                  n_estimators = 1000,\n",
    "                                  subsample = best_param['subsample'],\n",
    "                                  colsample_bytree = best_param['colsample_bytree'],\n",
    "                                  reg_alpha =  best_param['reg_alpha'],\n",
    "                                  reg_lambda = best_param['reg_lambda'],\n",
    "                                  objective = \"binary:logistic\"\n",
    "                                   )\n",
    "    xgb_model.fit(x_train, y_train, eval_set=[(x_val, y_val)], eval_metric='error',\n",
    "                  early_stopping_rounds=80, verbose=False)\n",
    "    \n",
    "    y_tr_pred = (xgb_model.predict_proba(x_train, iteration_range=(0, xgb_model.best_iteration+1)))[:,1]\n",
    "    train_auc = roc_auc_score(y_train, y_tr_pred)\n",
    "    print('training dataset AUC: ' + str(train_auc))\n",
    "    y_tr_class = [0 if prob <= 0.5 else 1 for prob in y_tr_pred]\n",
    "    acc = accuracy_score(y_train, y_tr_class)\n",
    "    print('training dataset accuracy: ' + str(acc))\n",
    "    \n",
    "    y_vd_pred = (xgb_model.predict_proba(x_val, iteration_range=(0, xgb_model.best_iteration+1)))[:, 1]\n",
    "    valid_auc = roc_auc_score(y_val, y_vd_pred)\n",
    "    print('validation dataset AUC: ' + str(valid_auc))\n",
    "    y_val_class = [0 if i <= 0.5 else 1 for i in y_vd_pred]\n",
    "    acc = accuracy_score(y_val, y_val_class)\n",
    "    print('validation dataset accuracy: ' + str(acc))\n",
    "    print('************************************************************')\n",
    "    \n",
    "    # save the model\n",
    "    save_model_path = save_dir + 'model{}.mdl'.format(k + 1)\n",
    "    xgb_model.get_booster().save_model(fname=save_model_path)\n",
    "    "
   ]
  },
  {
   "cell_type": "code",
   "execution_count": 258,
   "id": "23cd42ea-5e85-4368-8af1-383069d1ee63",
   "metadata": {
    "tags": []
   },
   "outputs": [],
   "source": [
    "trnneg.replace([np.inf, -np.inf], np.nan, inplace=True)\n",
    "trnneg.fillna(x_train.mean(), inplace=True)"
   ]
  },
  {
   "cell_type": "code",
   "execution_count": 259,
   "id": "761bf7ba-33b9-476f-972a-87b43cc89eec",
   "metadata": {
    "tags": []
   },
   "outputs": [
    {
     "name": "stdout",
     "output_type": "stream",
     "text": [
      "(367591, 68)\n",
      "(91899, 68)\n",
      "*************************************************************\n",
      "1th training ..............\n",
      "Hyperparameters optimization\n",
      "100%|██████████| 20/20 [10:30<00:00, 31.51s/trial, best loss: 0.04248141981958453]\n"
     ]
    },
    {
     "name": "stderr",
     "output_type": "stream",
     "text": [
      "/Users/gohitha/anaconda3/lib/python3.11/site-packages/xgboost/sklearn.py:889: UserWarning: `eval_metric` in `fit` method is deprecated for better compatibility with scikit-learn, use `eval_metric` in constructor or`set_params` instead.\n",
      "  warnings.warn(\n",
      "/Users/gohitha/anaconda3/lib/python3.11/site-packages/xgboost/sklearn.py:889: UserWarning: `early_stopping_rounds` in `fit` method is deprecated for better compatibility with scikit-learn, use `early_stopping_rounds` in constructor or`set_params` instead.\n",
      "  warnings.warn(\n"
     ]
    },
    {
     "name": "stdout",
     "output_type": "stream",
     "text": [
      "training dataset AUC: 0.991532127020547\n",
      "training dataset accuracy: 0.974890571314314\n",
      "validation dataset AUC: 0.9799601946871318\n",
      "validation dataset accuracy: 0.9667243386761554\n",
      "************************************************************\n"
     ]
    },
    {
     "name": "stderr",
     "output_type": "stream",
     "text": [
      "/Users/gohitha/anaconda3/lib/python3.11/site-packages/xgboost/core.py:160: UserWarning: [16:21:46] WARNING: /Users/runner/work/xgboost/xgboost/src/c_api/c_api.cc:1240: Saving into deprecated binary model format, please consider using `json` or `ubj`. Model format will default to JSON in XGBoost 2.2 if not specified.\n",
      "  warnings.warn(smsg, UserWarning)\n"
     ]
    },
    {
     "name": "stdout",
     "output_type": "stream",
     "text": [
      "(367591, 68)\n",
      "(91899, 68)\n",
      "*************************************************************\n",
      "2th training ..............\n",
      "Hyperparameters optimization\n",
      "100%|██████████| 20/20 [10:48<00:00, 32.42s/trial, best loss: 0.04218761901652901]\n"
     ]
    },
    {
     "name": "stderr",
     "output_type": "stream",
     "text": [
      "/Users/gohitha/anaconda3/lib/python3.11/site-packages/xgboost/sklearn.py:889: UserWarning: `eval_metric` in `fit` method is deprecated for better compatibility with scikit-learn, use `eval_metric` in constructor or`set_params` instead.\n",
      "  warnings.warn(\n",
      "/Users/gohitha/anaconda3/lib/python3.11/site-packages/xgboost/sklearn.py:889: UserWarning: `early_stopping_rounds` in `fit` method is deprecated for better compatibility with scikit-learn, use `early_stopping_rounds` in constructor or`set_params` instead.\n",
      "  warnings.warn(\n"
     ]
    },
    {
     "name": "stdout",
     "output_type": "stream",
     "text": [
      "training dataset AUC: 0.9921613074982005\n",
      "training dataset accuracy: 0.9752659885579353\n",
      "validation dataset AUC: 0.980495009981817\n",
      "validation dataset accuracy: 0.967061665524108\n",
      "************************************************************\n"
     ]
    },
    {
     "name": "stderr",
     "output_type": "stream",
     "text": [
      "/Users/gohitha/anaconda3/lib/python3.11/site-packages/xgboost/core.py:160: UserWarning: [16:34:10] WARNING: /Users/runner/work/xgboost/xgboost/src/c_api/c_api.cc:1240: Saving into deprecated binary model format, please consider using `json` or `ubj`. Model format will default to JSON in XGBoost 2.2 if not specified.\n",
      "  warnings.warn(smsg, UserWarning)\n"
     ]
    },
    {
     "name": "stdout",
     "output_type": "stream",
     "text": [
      "(367592, 68)\n",
      "(91898, 68)\n",
      "*************************************************************\n",
      "3th training ..............\n",
      "Hyperparameters optimization\n",
      "100%|██████████| 20/20 [1:08:52<00:00, 206.62s/trial, best loss: 0.04287362075344403]  \n"
     ]
    },
    {
     "name": "stderr",
     "output_type": "stream",
     "text": [
      "/Users/gohitha/anaconda3/lib/python3.11/site-packages/xgboost/sklearn.py:889: UserWarning: `eval_metric` in `fit` method is deprecated for better compatibility with scikit-learn, use `eval_metric` in constructor or`set_params` instead.\n",
      "  warnings.warn(\n",
      "/Users/gohitha/anaconda3/lib/python3.11/site-packages/xgboost/sklearn.py:889: UserWarning: `early_stopping_rounds` in `fit` method is deprecated for better compatibility with scikit-learn, use `early_stopping_rounds` in constructor or`set_params` instead.\n",
      "  warnings.warn(\n"
     ]
    },
    {
     "name": "stdout",
     "output_type": "stream",
     "text": [
      "training dataset AUC: 0.9920407701754003\n",
      "training dataset accuracy: 0.9748253498443927\n",
      "validation dataset AUC: 0.9797055568005106\n",
      "validation dataset accuracy: 0.9668327928790615\n",
      "************************************************************\n"
     ]
    },
    {
     "name": "stderr",
     "output_type": "stream",
     "text": [
      "/Users/gohitha/anaconda3/lib/python3.11/site-packages/xgboost/core.py:160: UserWarning: [17:44:37] WARNING: /Users/runner/work/xgboost/xgboost/src/c_api/c_api.cc:1240: Saving into deprecated binary model format, please consider using `json` or `ubj`. Model format will default to JSON in XGBoost 2.2 if not specified.\n",
      "  warnings.warn(smsg, UserWarning)\n"
     ]
    },
    {
     "name": "stdout",
     "output_type": "stream",
     "text": [
      "(367593, 68)\n",
      "(91897, 68)\n",
      "*************************************************************\n",
      "4th training ..............\n",
      "Hyperparameters optimization\n",
      "100%|██████████| 20/20 [10:50<00:00, 32.50s/trial, best loss: 0.041992665701818366]\n"
     ]
    },
    {
     "name": "stderr",
     "output_type": "stream",
     "text": [
      "/Users/gohitha/anaconda3/lib/python3.11/site-packages/xgboost/sklearn.py:889: UserWarning: `eval_metric` in `fit` method is deprecated for better compatibility with scikit-learn, use `eval_metric` in constructor or`set_params` instead.\n",
      "  warnings.warn(\n",
      "/Users/gohitha/anaconda3/lib/python3.11/site-packages/xgboost/sklearn.py:889: UserWarning: `early_stopping_rounds` in `fit` method is deprecated for better compatibility with scikit-learn, use `early_stopping_rounds` in constructor or`set_params` instead.\n",
      "  warnings.warn(\n"
     ]
    },
    {
     "name": "stdout",
     "output_type": "stream",
     "text": [
      "training dataset AUC: 0.9905870466090241\n",
      "training dataset accuracy: 0.9734434551256417\n",
      "validation dataset AUC: 0.9763940755266501\n",
      "validation dataset accuracy: 0.9670065399305744\n",
      "************************************************************\n"
     ]
    },
    {
     "name": "stderr",
     "output_type": "stream",
     "text": [
      "/Users/gohitha/anaconda3/lib/python3.11/site-packages/xgboost/core.py:160: UserWarning: [17:57:01] WARNING: /Users/runner/work/xgboost/xgboost/src/c_api/c_api.cc:1240: Saving into deprecated binary model format, please consider using `json` or `ubj`. Model format will default to JSON in XGBoost 2.2 if not specified.\n",
      "  warnings.warn(smsg, UserWarning)\n"
     ]
    },
    {
     "name": "stdout",
     "output_type": "stream",
     "text": [
      "(367593, 68)\n",
      "(91897, 68)\n",
      "*************************************************************\n",
      "5th training ..............\n",
      "Hyperparameters optimization\n",
      "100%|██████████| 20/20 [34:34<00:00, 103.74s/trial, best loss: 0.04266733408054668]\n"
     ]
    },
    {
     "name": "stderr",
     "output_type": "stream",
     "text": [
      "/Users/gohitha/anaconda3/lib/python3.11/site-packages/xgboost/sklearn.py:889: UserWarning: `eval_metric` in `fit` method is deprecated for better compatibility with scikit-learn, use `eval_metric` in constructor or`set_params` instead.\n",
      "  warnings.warn(\n",
      "/Users/gohitha/anaconda3/lib/python3.11/site-packages/xgboost/sklearn.py:889: UserWarning: `early_stopping_rounds` in `fit` method is deprecated for better compatibility with scikit-learn, use `early_stopping_rounds` in constructor or`set_params` instead.\n",
      "  warnings.warn(\n"
     ]
    },
    {
     "name": "stdout",
     "output_type": "stream",
     "text": [
      "training dataset AUC: 0.9920183683435464\n",
      "training dataset accuracy: 0.9753150903308823\n",
      "validation dataset AUC: 0.9798137386388578\n",
      "validation dataset accuracy: 0.9671153574110145\n",
      "************************************************************\n"
     ]
    },
    {
     "name": "stderr",
     "output_type": "stream",
     "text": [
      "/Users/gohitha/anaconda3/lib/python3.11/site-packages/xgboost/core.py:160: UserWarning: [18:33:06] WARNING: /Users/runner/work/xgboost/xgboost/src/c_api/c_api.cc:1240: Saving into deprecated binary model format, please consider using `json` or `ubj`. Model format will default to JSON in XGBoost 2.2 if not specified.\n",
      "  warnings.warn(smsg, UserWarning)\n"
     ]
    }
   ],
   "source": [
    " # 5-fold cross validation, five XGBoost models produced\n",
    "kfold = KFold(n_splits=5, shuffle=True, random_state=np.random.seed(12306))\n",
    "for (k, (train0_index, val0_index)), (k, (train1_index, val1_index)) in  zip(enumerate(kfold.split(trnneg)), enumerate(kfold.split(trnpos))):\n",
    "        train_set = pd.concat([trnneg.iloc[train0_index], trnpos.iloc[train1_index]])\n",
    "        x_train, y_train = process_data(train_set)\n",
    "        val_set = pd.concat([trnneg.iloc[val0_index], trnpos.iloc[val1_index]])\n",
    "        x_val, y_val = process_data(val_set)\n",
    "        train_model(k, x_train, y_train, x_val, y_val, save_dir = '/Users/gohitha/Desktop/CPSIL/sepsis-prediction/models4/')"
   ]
  },
  {
   "cell_type": "code",
   "execution_count": 207,
   "id": "cd937537-40fa-44e4-8dfb-fa429b5f8df9",
   "metadata": {
    "tags": []
   },
   "outputs": [],
   "source": [
    "test_data = np.append(test_neg, test_pos)"
   ]
  },
  {
   "cell_type": "code",
   "execution_count": 208,
   "id": "1f917cb8-ac20-40d3-86b9-d2bfea9333f6",
   "metadata": {
    "tags": []
   },
   "outputs": [],
   "source": [
    "def load_model_predict(x_test, k_fold, path):\n",
    "    \"ensemble the five XGBoost models by averaging their output probabilities\"\n",
    "    test_pred = np.zeros((x_test.shape[0], k_fold))\n",
    "    x_test = xgb.DMatrix(x_test)\n",
    "    for k in range(k_fold):\n",
    "        model_path_name = path + 'model{}.mdl'.format(k+1)\n",
    "        xgb_model = xgb.Booster(model_file = model_path_name)\n",
    "        y_test_pred = xgb_model.predict(x_test)\n",
    "        test_pred[:, k] = y_test_pred\n",
    "    test_pred = pd.DataFrame(test_pred)\n",
    "    result_pro = test_pred.mean(axis=1)\n",
    "\n",
    "    return result_pro"
   ]
  },
  {
   "cell_type": "code",
   "execution_count": 209,
   "id": "dbcc4c35-6ad9-4ee2-961c-903404d5227d",
   "metadata": {
    "tags": []
   },
   "outputs": [],
   "source": [
    "model_path = '/Users/gohitha/Desktop/CPSIL/sepsis-prediction/models4/'"
   ]
  },
  {
   "cell_type": "code",
   "execution_count": 210,
   "id": "a91ed1ac-5fdb-4d12-a5b3-fac53461092d",
   "metadata": {
    "tags": []
   },
   "outputs": [],
   "source": [
    "random.shuffle(test_data)"
   ]
  },
  {
   "cell_type": "code",
   "execution_count": 211,
   "id": "ac8a60de-ea48-4cb2-a2ba-e8f5226989e9",
   "metadata": {
    "tags": []
   },
   "outputs": [],
   "source": [
    "test_dfs = [pd.read_csv(filename, sep='|') for filename in test_data]"
   ]
  },
  {
   "cell_type": "code",
   "execution_count": 212,
   "id": "46cae006-7a99-4bea-a351-b303e2c93153",
   "metadata": {
    "tags": []
   },
   "outputs": [],
   "source": [
    "test_df = pd.concat(test_dfs, ignore_index=True)"
   ]
  },
  {
   "cell_type": "code",
   "execution_count": 213,
   "id": "85475917-546c-419c-929e-9b23dc2dbb0e",
   "metadata": {
    "tags": []
   },
   "outputs": [],
   "source": [
    "test_df['HospAdmTime'] = test_df['HospAdmTime'] * -1"
   ]
  },
  {
   "cell_type": "code",
   "execution_count": 214,
   "id": "fd24fd07-658d-4748-bcde-fcfab030e68a",
   "metadata": {
    "tags": []
   },
   "outputs": [],
   "source": [
    "for col in skew_1:\n",
    "    test_df[col] = test_df[col].apply(lambda x: np.log(x+1) if pd.notnull(x) else x)\n",
    "    if col in skew_2:\n",
    "        test_df[col] = test_df[col].apply(lambda x: np.log(x+1) if pd.notnull(x) else x)"
   ]
  },
  {
   "cell_type": "code",
   "execution_count": 215,
   "id": "451ba190-4e97-4f0b-b3b8-96944bb10d72",
   "metadata": {
    "tags": []
   },
   "outputs": [],
   "source": [
    "for column in non_demo:\n",
    "    test_df[column] = pre.custom_impute(test_df[column])"
   ]
  },
  {
   "cell_type": "code",
   "execution_count": 216,
   "id": "e71ac2d6-bc8a-4861-9aa3-e248734c44e9",
   "metadata": {
    "tags": []
   },
   "outputs": [
    {
     "name": "stdout",
     "output_type": "stream",
     "text": [
      "(81055, 68)\n"
     ]
    }
   ],
   "source": [
    "features, labels = feature_extract(test_df)"
   ]
  },
  {
   "cell_type": "code",
   "execution_count": 217,
   "id": "b1e576f8-78d6-40f4-a18f-b3642a58453a",
   "metadata": {
    "tags": []
   },
   "outputs": [],
   "source": [
    "probs = load_model_predict(features, 5, model_path)"
   ]
  },
  {
   "cell_type": "code",
   "execution_count": 218,
   "id": "fa513c46-4f99-4abd-80db-534cee9e5bca",
   "metadata": {
    "tags": []
   },
   "outputs": [],
   "source": [
    "predlabels = [0 if i <= 0.5 else 1 for i in probs]"
   ]
  },
  {
   "cell_type": "code",
   "execution_count": 219,
   "id": "d2915b27-098a-4026-9636-bc4a0e89c14f",
   "metadata": {
    "tags": []
   },
   "outputs": [],
   "source": [
    "from sklearn.metrics import confusion_matrix\n",
    "import seaborn as sns"
   ]
  },
  {
   "cell_type": "code",
   "execution_count": 220,
   "id": "c82c4826-c91b-4b69-9eed-79256beb09ca",
   "metadata": {
    "tags": []
   },
   "outputs": [
    {
     "data": {
      "image/png": "[encoded data removed]",
      "text/plain": [
       "<Figure size 800x600 with 2 Axes>"
      ]
     },
     "metadata": {},
     "output_type": "display_data"
    }
   ],
   "source": [
    "# Create the confusion matrix\n",
    "cm = confusion_matrix(labels, predlabels)\n",
    "\n",
    "# Visualize the confusion matrix\n",
    "plt.figure(figsize=(8, 6))\n",
    "sns.heatmap(cm, annot=True, fmt='d', cmap='Blues', xticklabels=['Predicted 0', 'Predicted 1'], yticklabels=['Actual 0', 'Actual 1'])\n",
    "plt.ylabel('Actual')\n",
    "plt.xlabel('Predicted')\n",
    "plt.title('Confusion Matrix')\n",
    "plt.show()"
   ]
  },
  {
   "cell_type": "code",
   "execution_count": 221,
   "id": "ae1cc05e-cb07-43da-b1cb-29c7725ba310",
   "metadata": {
    "tags": []
   },
   "outputs": [],
   "source": [
    "from sklearn.metrics import roc_auc_score"
   ]
  },
  {
   "cell_type": "code",
   "execution_count": 222,
   "id": "4fb4185a-f80f-4e58-a050-406badeff0cc",
   "metadata": {
    "tags": []
   },
   "outputs": [
    {
     "name": "stdout",
     "output_type": "stream",
     "text": [
      "The ROC AUC score is: 0.7146969513310844\n"
     ]
    }
   ],
   "source": [
    "roc_auc = roc_auc_score(labels, probs)\n",
    "\n",
    "print(f\"The ROC AUC score is: {roc_auc}\")"
   ]
  },
  {
   "cell_type": "code",
   "execution_count": 223,
   "id": "28c6a840-6764-4a67-a1b3-2e70d265ac35",
   "metadata": {
    "tags": []
   },
   "outputs": [],
   "source": [
    "from sklearn.metrics import precision_score, recall_score"
   ]
  },
  {
   "cell_type": "code",
   "execution_count": 224,
   "id": "0d15ba2a-8bd3-4478-9e2d-cac730c6ae88",
   "metadata": {
    "tags": []
   },
   "outputs": [
    {
     "name": "stdout",
     "output_type": "stream",
     "text": [
      "Precision: 0.12448552242039136\n",
      "Recall: 0.41303306181121224\n"
     ]
    }
   ],
   "source": [
    "precision = precision_score(labels, predlabels)\n",
    "recall = recall_score(labels, predlabels)\n",
    "\n",
    "print(f\"Precision: {precision}\")\n",
    "print(f\"Recall: {recall}\")"
   ]
  },
  {
   "cell_type": "code",
   "execution_count": 225,
   "id": "7b824bfc-5769-4ca0-be92-668f82433eb7",
   "metadata": {
    "tags": []
   },
   "outputs": [
    {
     "data": {
      "text/plain": [
       "1940"
      ]
     },
     "execution_count": 225,
     "metadata": {},
     "output_type": "execute_result"
    }
   ],
   "source": [
    "len(test_data)"
   ]
  },
  {
   "cell_type": "code",
   "execution_count": 226,
   "id": "75a51833-bc71-4e94-9c1f-0c65f8586ad6",
   "metadata": {
    "tags": []
   },
   "outputs": [
    {
     "data": {
      "text/plain": [
       "8500"
      ]
     },
     "execution_count": 226,
     "metadata": {},
     "output_type": "execute_result"
    }
   ],
   "source": [
    "len(train_neg)"
   ]
  },
  {
   "cell_type": "code",
   "execution_count": 227,
   "id": "aa55e8e7-97f0-481d-8c55-6991fc000a15",
   "metadata": {
    "tags": []
   },
   "outputs": [
    {
     "data": {
      "text/plain": [
       "2492"
      ]
     },
     "execution_count": 227,
     "metadata": {},
     "output_type": "execute_result"
    }
   ],
   "source": [
    "len(train_pos)"
   ]
  },
  {
   "cell_type": "code",
   "execution_count": 228,
   "id": "f4ebfe6a-b0f1-4489-9aa8-467a645630a1",
   "metadata": {
    "tags": []
   },
   "outputs": [
    {
     "data": {
      "text/plain": [
       "37404"
      ]
     },
     "execution_count": 228,
     "metadata": {},
     "output_type": "execute_result"
    }
   ],
   "source": [
    "len(neg)"
   ]
  },
  {
   "cell_type": "code",
   "execution_count": null,
   "id": "d4a15a97-bdda-46b2-9f11-fb24571d3e9a",
   "metadata": {},
   "outputs": [],
   "source": []
  }
 ],
 "metadata": {
  "kernelspec": {
   "display_name": "Python 3 (ipykernel)",
   "language": "python",
   "name": "python3"
  },
  "language_info": {
   "codemirror_mode": {
    "name": "ipython",
    "version": 3
   },
   "file_extension": ".py",
   "mimetype": "text/x-python",
   "name": "python",
   "nbconvert_exporter": "python",
   "pygments_lexer": "ipython3",
   "version": "3.11.5"
  }
 },
 "nbformat": 4,
 "nbformat_minor": 5
}
